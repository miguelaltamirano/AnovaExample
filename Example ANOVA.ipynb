{
 "cells": [
  {
   "cell_type": "code",
   "execution_count": 23,
   "id": "9e70026a",
   "metadata": {},
   "outputs": [
    {
     "data": {
      "text/html": [
       "<div>\n",
       "<style scoped>\n",
       "    .dataframe tbody tr th:only-of-type {\n",
       "        vertical-align: middle;\n",
       "    }\n",
       "\n",
       "    .dataframe tbody tr th {\n",
       "        vertical-align: top;\n",
       "    }\n",
       "\n",
       "    .dataframe thead th {\n",
       "        text-align: right;\n",
       "    }\n",
       "</style>\n",
       "<table border=\"1\" class=\"dataframe\">\n",
       "  <thead>\n",
       "    <tr style=\"text-align: right;\">\n",
       "      <th></th>\n",
       "      <th>Patterns</th>\n",
       "      <th>Times</th>\n",
       "    </tr>\n",
       "  </thead>\n",
       "  <tbody>\n",
       "    <tr>\n",
       "      <th>0</th>\n",
       "      <td>Pattern1</td>\n",
       "      <td>13</td>\n",
       "    </tr>\n",
       "    <tr>\n",
       "      <th>1</th>\n",
       "      <td>Pattern1</td>\n",
       "      <td>11</td>\n",
       "    </tr>\n",
       "    <tr>\n",
       "      <th>2</th>\n",
       "      <td>Pattern1</td>\n",
       "      <td>8</td>\n",
       "    </tr>\n",
       "    <tr>\n",
       "      <th>3</th>\n",
       "      <td>Pattern1</td>\n",
       "      <td>11</td>\n",
       "    </tr>\n",
       "    <tr>\n",
       "      <th>4</th>\n",
       "      <td>Pattern1</td>\n",
       "      <td>8</td>\n",
       "    </tr>\n",
       "  </tbody>\n",
       "</table>\n",
       "</div>"
      ],
      "text/plain": [
       "   Patterns  Times\n",
       "0  Pattern1     13\n",
       "1  Pattern1     11\n",
       "2  Pattern1      8\n",
       "3  Pattern1     11\n",
       "4  Pattern1      8"
      ]
     },
     "execution_count": 23,
     "metadata": {},
     "output_type": "execute_result"
    }
   ],
   "source": [
    "import pandas as pd\n",
    "import pingouin as pg\n",
    "import numpy as np\n",
    "import seaborn as sns\n",
    "import seaborn as sns\n",
    "\n",
    "\n",
    "# data = 'example.csv'\n",
    "# df = pd.read_csv(data, index_col=0)\n",
    "df.head()\n",
    "\n",
    "d = {'Patterns': ['Pattern1', 'Pattern1', 'Pattern1', 'Pattern1', 'Pattern1', 'Pattern2', 'Pattern2', 'Pattern2', 'Pattern2', 'Pattern2', 'Pattern3', 'Pattern3', 'Pattern3', 'Pattern3', 'Pattern3'], \n",
    "     'Times': [13, 11, 8, 11, 8, 13, 11, 14,14, 10, 4, 1, 3, 4, 2]}\n",
    "df = pd.DataFrame(data=d)\n",
    "df.head()\n",
    "\n"
   ]
  },
  {
   "cell_type": "code",
   "execution_count": 24,
   "id": "f17bc2ff",
   "metadata": {},
   "outputs": [],
   "source": [
    "question = \"Times\""
   ]
  },
  {
   "cell_type": "code",
   "execution_count": 25,
   "id": "db4de187",
   "metadata": {},
   "outputs": [
    {
     "name": "stdout",
     "output_type": "stream",
     "text": [
      "Normality:                   W      pval  normal\n",
      "Pattern1  0.871300  0.271728    True\n",
      "Pattern2  0.866836  0.253846    True\n",
      "Pattern3  0.902020  0.421149    True\n"
     ]
    }
   ],
   "source": [
    "normality = pg.normality(df, group='Patterns', dv=question)\n",
    "print(\"Normality: \", normality)"
   ]
  },
  {
   "cell_type": "code",
   "execution_count": 29,
   "id": "a0f92c53",
   "metadata": {},
   "outputs": [
    {
     "name": "stdout",
     "output_type": "stream",
     "text": [
      "Homoscedasticity:                 W      pval  equal_var\n",
      "levene  0.341463  0.717415       True\n"
     ]
    }
   ],
   "source": [
    "homoscedasticity = pg.homoscedasticity(df, group='Patterns', dv=question)\n",
    "print(\"Homoscedasticity: \", homoscedasticity)\n",
    "\n"
   ]
  },
  {
   "cell_type": "code",
   "execution_count": 30,
   "id": "1fc149b0",
   "metadata": {},
   "outputs": [
    {
     "name": "stdout",
     "output_type": "stream",
     "text": [
      "ANOVA: \n",
      "      Source          SS  DF          MS          F     p-unc       np2\n",
      "0  Patterns  252.933333   2  126.466667  39.113402  0.000006  0.867002\n",
      "1    Within   38.800000  12    3.233333        NaN       NaN       NaN\n"
     ]
    }
   ],
   "source": [
    "aov = pg.anova(dv=question, between=[\"Patterns\"], data=df, detailed=True)\n",
    "print(\"ANOVA: \\n\", aov)\n",
    "\n"
   ]
  },
  {
   "cell_type": "code",
   "execution_count": 32,
   "id": "2f40d288",
   "metadata": {},
   "outputs": [
    {
     "name": "stdout",
     "output_type": "stream",
     "text": [
      "T-test: \n",
      "    Contrast         A         B  Paired  Parametric         T  dof  \\\n",
      "0  Patterns  Pattern1  Pattern2   False        True -1.739253  8.0   \n",
      "1  Patterns  Pattern1  Pattern3   False        True  6.540738  8.0   \n",
      "2  Patterns  Pattern2  Pattern3   False        True  9.600000  8.0   \n",
      "\n",
      "  alternative     p-unc     BF10    hedges  \n",
      "0   two-sided  0.120181    1.124 -0.993548  \n",
      "1   two-sided  0.000180  103.742  3.736397  \n",
      "2   two-sided  0.000012  991.786  5.484001  \n"
     ]
    }
   ],
   "source": [
    "ttest = pg.pairwise_ttests(dv=question, between='Patterns', data=df).round(7)\n",
    "print(\"T-test: \\n\", ttest)\n"
   ]
  },
  {
   "cell_type": "code",
   "execution_count": null,
   "id": "653ae2e3",
   "metadata": {},
   "outputs": [],
   "source": []
  }
 ],
 "metadata": {
  "kernelspec": {
   "display_name": "Python 3 (ipykernel)",
   "language": "python",
   "name": "python3"
  },
  "language_info": {
   "codemirror_mode": {
    "name": "ipython",
    "version": 3
   },
   "file_extension": ".py",
   "mimetype": "text/x-python",
   "name": "python",
   "nbconvert_exporter": "python",
   "pygments_lexer": "ipython3",
   "version": "3.8.8"
  }
 },
 "nbformat": 4,
 "nbformat_minor": 5
}
